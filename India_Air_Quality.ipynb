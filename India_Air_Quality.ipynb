{
  "nbformat": 4,
  "nbformat_minor": 0,
  "metadata": {
    "kernelspec": {
      "display_name": "Python 3",
      "language": "python",
      "name": "python3"
    },
    "language_info": {
      "codemirror_mode": {
        "name": "ipython",
        "version": 3
      },
      "file_extension": ".py",
      "mimetype": "text/x-python",
      "name": "python",
      "nbconvert_exporter": "python",
      "pygments_lexer": "ipython3",
      "version": "3.7.6"
    },
    "colab": {
      "name": "India Air Quality-CA01-Empty-Template.ipynb",
      "provenance": []
    }
  },
  "cells": [
    {
      "cell_type": "markdown",
      "metadata": {
        "id": "s8EjpO6KeBSt"
      },
      "source": [
        "# Your name: Silvia Ji\n",
        "## Assignment Name: CA01 - Data Cleaning and Exploration of India Air Quality"
      ]
    },
    {
      "cell_type": "markdown",
      "metadata": {
        "id": "uALWihhPeBS2"
      },
      "source": [
        "# Program Inititialization Section\n",
        "## Enter your import packages here"
      ]
    },
    {
      "cell_type": "code",
      "metadata": {
        "id": "xTs2UPOseBS2"
      },
      "source": [
        "import pandas as pd\n",
        "import numpy as np\n",
        "from sklearn.impute import SimpleImputer\n",
        "import matplotlib.pyplot as plt"
      ],
      "execution_count": 485,
      "outputs": []
    },
    {
      "cell_type": "markdown",
      "metadata": {
        "id": "nYkP7_LoeBS-"
      },
      "source": [
        "# Data File Reading Section\n",
        "## Write code to read in data from external sources here"
      ]
    },
    {
      "cell_type": "code",
      "metadata": {
        "colab": {
          "base_uri": "https://localhost:8080/"
        },
        "id": "Tth_phJwby2d",
        "outputId": "73a58691-7251-451f-b0b6-93fa525bd73a"
      },
      "source": [
        "data = pd.read_csv('data.csv', encoding = 'latin1') # Fixing encoding error"
      ],
      "execution_count": 486,
      "outputs": [
        {
          "output_type": "stream",
          "text": [
            "/usr/local/lib/python3.6/dist-packages/IPython/core/interactiveshell.py:2718: DtypeWarning: Columns (0) have mixed types.Specify dtype option on import or set low_memory=False.\n",
            "  interactivity=interactivity, compiler=compiler, result=result)\n"
          ],
          "name": "stderr"
        }
      ]
    },
    {
      "cell_type": "markdown",
      "metadata": {
        "id": "aRXgsVyTeBTO"
      },
      "source": [
        "# Initial Data Investigation Section\n",
        "\n",
        "## Summarized details\n",
        "### Generate descriptive statistics that summarize the central tendency, dispersion, and shape of a dataset’s distribution, excluding NaN values.\n",
        "#### Steps:\n",
        "#### 1. Statistical Description of data (data.describe)\n",
        "#### 2. Display number of total rows and columns of the dataset (data.shape)\n",
        "#### 3. Display number of non-null values for each column (data.count)\n",
        "#### 4. Display number of null values for each column (sum of data.isnull)\n",
        "#### 5. Display range, column, number of non-null objects of each column, datatype and memory usage (data.info)\n",
        "#### 6. Display Top 10 and Bottom 10 records (head and tail)"
      ]
    },
    {
      "cell_type": "code",
      "metadata": {
        "scrolled": false,
        "id": "COQFJrPZeBTO",
        "colab": {
          "base_uri": "https://localhost:8080/",
          "height": 287
        },
        "outputId": "c424dcaa-3281-4d29-ef93-0aa4f5386b84"
      },
      "source": [
        "# 1. Statistical Description of data (data.describe)\n",
        "data.describe()"
      ],
      "execution_count": 487,
      "outputs": [
        {
          "output_type": "execute_result",
          "data": {
            "text/html": [
              "<div>\n",
              "<style scoped>\n",
              "    .dataframe tbody tr th:only-of-type {\n",
              "        vertical-align: middle;\n",
              "    }\n",
              "\n",
              "    .dataframe tbody tr th {\n",
              "        vertical-align: top;\n",
              "    }\n",
              "\n",
              "    .dataframe thead th {\n",
              "        text-align: right;\n",
              "    }\n",
              "</style>\n",
              "<table border=\"1\" class=\"dataframe\">\n",
              "  <thead>\n",
              "    <tr style=\"text-align: right;\">\n",
              "      <th></th>\n",
              "      <th>so2</th>\n",
              "      <th>no2</th>\n",
              "      <th>rspm</th>\n",
              "      <th>spm</th>\n",
              "      <th>pm2_5</th>\n",
              "    </tr>\n",
              "  </thead>\n",
              "  <tbody>\n",
              "    <tr>\n",
              "      <th>count</th>\n",
              "      <td>401096.000000</td>\n",
              "      <td>419509.000000</td>\n",
              "      <td>395520.000000</td>\n",
              "      <td>198355.000000</td>\n",
              "      <td>9314.000000</td>\n",
              "    </tr>\n",
              "    <tr>\n",
              "      <th>mean</th>\n",
              "      <td>10.829414</td>\n",
              "      <td>25.809623</td>\n",
              "      <td>108.832784</td>\n",
              "      <td>220.783480</td>\n",
              "      <td>40.791467</td>\n",
              "    </tr>\n",
              "    <tr>\n",
              "      <th>std</th>\n",
              "      <td>11.177187</td>\n",
              "      <td>18.503086</td>\n",
              "      <td>74.872430</td>\n",
              "      <td>151.395457</td>\n",
              "      <td>30.832525</td>\n",
              "    </tr>\n",
              "    <tr>\n",
              "      <th>min</th>\n",
              "      <td>0.000000</td>\n",
              "      <td>0.000000</td>\n",
              "      <td>0.000000</td>\n",
              "      <td>0.000000</td>\n",
              "      <td>3.000000</td>\n",
              "    </tr>\n",
              "    <tr>\n",
              "      <th>25%</th>\n",
              "      <td>5.000000</td>\n",
              "      <td>14.000000</td>\n",
              "      <td>56.000000</td>\n",
              "      <td>111.000000</td>\n",
              "      <td>24.000000</td>\n",
              "    </tr>\n",
              "    <tr>\n",
              "      <th>50%</th>\n",
              "      <td>8.000000</td>\n",
              "      <td>22.000000</td>\n",
              "      <td>90.000000</td>\n",
              "      <td>187.000000</td>\n",
              "      <td>32.000000</td>\n",
              "    </tr>\n",
              "    <tr>\n",
              "      <th>75%</th>\n",
              "      <td>13.700000</td>\n",
              "      <td>32.200000</td>\n",
              "      <td>142.000000</td>\n",
              "      <td>296.000000</td>\n",
              "      <td>46.000000</td>\n",
              "    </tr>\n",
              "    <tr>\n",
              "      <th>max</th>\n",
              "      <td>909.000000</td>\n",
              "      <td>876.000000</td>\n",
              "      <td>6307.033333</td>\n",
              "      <td>3380.000000</td>\n",
              "      <td>504.000000</td>\n",
              "    </tr>\n",
              "  </tbody>\n",
              "</table>\n",
              "</div>"
            ],
            "text/plain": [
              "                 so2            no2           rspm            spm        pm2_5\n",
              "count  401096.000000  419509.000000  395520.000000  198355.000000  9314.000000\n",
              "mean       10.829414      25.809623     108.832784     220.783480    40.791467\n",
              "std        11.177187      18.503086      74.872430     151.395457    30.832525\n",
              "min         0.000000       0.000000       0.000000       0.000000     3.000000\n",
              "25%         5.000000      14.000000      56.000000     111.000000    24.000000\n",
              "50%         8.000000      22.000000      90.000000     187.000000    32.000000\n",
              "75%        13.700000      32.200000     142.000000     296.000000    46.000000\n",
              "max       909.000000     876.000000    6307.033333    3380.000000   504.000000"
            ]
          },
          "metadata": {
            "tags": []
          },
          "execution_count": 487
        }
      ]
    },
    {
      "cell_type": "code",
      "metadata": {
        "id": "5DDRz2pme85k",
        "colab": {
          "base_uri": "https://localhost:8080/"
        },
        "outputId": "9180a734-3d65-4a68-984b-d1369bf10104"
      },
      "source": [
        "# 2. Display number of total rows and columns of the dataset (data.shape)\n",
        "data.shape"
      ],
      "execution_count": 488,
      "outputs": [
        {
          "output_type": "execute_result",
          "data": {
            "text/plain": [
              "(435742, 13)"
            ]
          },
          "metadata": {
            "tags": []
          },
          "execution_count": 488
        }
      ]
    },
    {
      "cell_type": "code",
      "metadata": {
        "id": "DpztMH2VfDTs",
        "colab": {
          "base_uri": "https://localhost:8080/"
        },
        "outputId": "f8bfb068-bd26-447f-be24-40c77048f087"
      },
      "source": [
        "# 3. Display number of non-null values for each column (data.count)\n",
        "data.count()"
      ],
      "execution_count": 489,
      "outputs": [
        {
          "output_type": "execute_result",
          "data": {
            "text/plain": [
              "stn_code                       291665\n",
              "sampling_date                  435739\n",
              "state                          435742\n",
              "location                       435739\n",
              "agency                         286261\n",
              "type                           430349\n",
              "so2                            401096\n",
              "no2                            419509\n",
              "rspm                           395520\n",
              "spm                            198355\n",
              "location_monitoring_station    408251\n",
              "pm2_5                            9314\n",
              "date                           435735\n",
              "dtype: int64"
            ]
          },
          "metadata": {
            "tags": []
          },
          "execution_count": 489
        }
      ]
    },
    {
      "cell_type": "code",
      "metadata": {
        "id": "SwLDcuLhfFCL",
        "colab": {
          "base_uri": "https://localhost:8080/"
        },
        "outputId": "e9050b44-67ee-471e-84f2-8a52e48c956a"
      },
      "source": [
        "# 4. Display number of null values for each column (sum of data.isnull)\n",
        "data.isnull().sum()"
      ],
      "execution_count": 490,
      "outputs": [
        {
          "output_type": "execute_result",
          "data": {
            "text/plain": [
              "stn_code                       144077\n",
              "sampling_date                       3\n",
              "state                               0\n",
              "location                            3\n",
              "agency                         149481\n",
              "type                             5393\n",
              "so2                             34646\n",
              "no2                             16233\n",
              "rspm                            40222\n",
              "spm                            237387\n",
              "location_monitoring_station     27491\n",
              "pm2_5                          426428\n",
              "date                                7\n",
              "dtype: int64"
            ]
          },
          "metadata": {
            "tags": []
          },
          "execution_count": 490
        }
      ]
    },
    {
      "cell_type": "code",
      "metadata": {
        "id": "XEgXiYUIfH6o",
        "colab": {
          "base_uri": "https://localhost:8080/"
        },
        "outputId": "e0f5bf0d-3cd2-4ee7-a957-9087ff2d82a1"
      },
      "source": [
        "# 5. Display range, column, number of non-null objects of each column, datatype and memory usage (data.info)\n",
        "data.info()"
      ],
      "execution_count": 491,
      "outputs": [
        {
          "output_type": "stream",
          "text": [
            "<class 'pandas.core.frame.DataFrame'>\n",
            "RangeIndex: 435742 entries, 0 to 435741\n",
            "Data columns (total 13 columns):\n",
            " #   Column                       Non-Null Count   Dtype  \n",
            "---  ------                       --------------   -----  \n",
            " 0   stn_code                     291665 non-null  object \n",
            " 1   sampling_date                435739 non-null  object \n",
            " 2   state                        435742 non-null  object \n",
            " 3   location                     435739 non-null  object \n",
            " 4   agency                       286261 non-null  object \n",
            " 5   type                         430349 non-null  object \n",
            " 6   so2                          401096 non-null  float64\n",
            " 7   no2                          419509 non-null  float64\n",
            " 8   rspm                         395520 non-null  float64\n",
            " 9   spm                          198355 non-null  float64\n",
            " 10  location_monitoring_station  408251 non-null  object \n",
            " 11  pm2_5                        9314 non-null    float64\n",
            " 12  date                         435735 non-null  object \n",
            "dtypes: float64(5), object(8)\n",
            "memory usage: 43.2+ MB\n"
          ],
          "name": "stdout"
        }
      ]
    },
    {
      "cell_type": "code",
      "metadata": {
        "id": "16po2tyffJq4",
        "colab": {
          "base_uri": "https://localhost:8080/",
          "height": 347
        },
        "outputId": "943000eb-4b33-4856-811a-59e37a5d2c94"
      },
      "source": [
        "# 6. Display Top 10 and Bottom 10 records (head and tail)\n",
        "data.head(10)\n",
        "data.tail(10)"
      ],
      "execution_count": 492,
      "outputs": [
        {
          "output_type": "execute_result",
          "data": {
            "text/html": [
              "<div>\n",
              "<style scoped>\n",
              "    .dataframe tbody tr th:only-of-type {\n",
              "        vertical-align: middle;\n",
              "    }\n",
              "\n",
              "    .dataframe tbody tr th {\n",
              "        vertical-align: top;\n",
              "    }\n",
              "\n",
              "    .dataframe thead th {\n",
              "        text-align: right;\n",
              "    }\n",
              "</style>\n",
              "<table border=\"1\" class=\"dataframe\">\n",
              "  <thead>\n",
              "    <tr style=\"text-align: right;\">\n",
              "      <th></th>\n",
              "      <th>stn_code</th>\n",
              "      <th>sampling_date</th>\n",
              "      <th>state</th>\n",
              "      <th>location</th>\n",
              "      <th>agency</th>\n",
              "      <th>type</th>\n",
              "      <th>so2</th>\n",
              "      <th>no2</th>\n",
              "      <th>rspm</th>\n",
              "      <th>spm</th>\n",
              "      <th>location_monitoring_station</th>\n",
              "      <th>pm2_5</th>\n",
              "      <th>date</th>\n",
              "    </tr>\n",
              "  </thead>\n",
              "  <tbody>\n",
              "    <tr>\n",
              "      <th>435732</th>\n",
              "      <td>SAMP</td>\n",
              "      <td>09-12-15</td>\n",
              "      <td>West Bengal</td>\n",
              "      <td>ULUBERIA</td>\n",
              "      <td>West Bengal State Pollution Control Board</td>\n",
              "      <td>RIRUO</td>\n",
              "      <td>22.0</td>\n",
              "      <td>50.0</td>\n",
              "      <td>145.0</td>\n",
              "      <td>NaN</td>\n",
              "      <td>Inside Rampal Industries,ULUBERIA</td>\n",
              "      <td>NaN</td>\n",
              "      <td>2015-12-09</td>\n",
              "    </tr>\n",
              "    <tr>\n",
              "      <th>435733</th>\n",
              "      <td>SAMP</td>\n",
              "      <td>12-12-15</td>\n",
              "      <td>West Bengal</td>\n",
              "      <td>ULUBERIA</td>\n",
              "      <td>West Bengal State Pollution Control Board</td>\n",
              "      <td>RIRUO</td>\n",
              "      <td>34.0</td>\n",
              "      <td>61.0</td>\n",
              "      <td>161.0</td>\n",
              "      <td>NaN</td>\n",
              "      <td>Inside Rampal Industries,ULUBERIA</td>\n",
              "      <td>NaN</td>\n",
              "      <td>2015-12-12</td>\n",
              "    </tr>\n",
              "    <tr>\n",
              "      <th>435734</th>\n",
              "      <td>SAMP</td>\n",
              "      <td>15-12-15</td>\n",
              "      <td>West Bengal</td>\n",
              "      <td>ULUBERIA</td>\n",
              "      <td>West Bengal State Pollution Control Board</td>\n",
              "      <td>RIRUO</td>\n",
              "      <td>20.0</td>\n",
              "      <td>44.0</td>\n",
              "      <td>148.0</td>\n",
              "      <td>NaN</td>\n",
              "      <td>Inside Rampal Industries,ULUBERIA</td>\n",
              "      <td>NaN</td>\n",
              "      <td>2015-12-15</td>\n",
              "    </tr>\n",
              "    <tr>\n",
              "      <th>435735</th>\n",
              "      <td>SAMP</td>\n",
              "      <td>18-12-15</td>\n",
              "      <td>West Bengal</td>\n",
              "      <td>ULUBERIA</td>\n",
              "      <td>West Bengal State Pollution Control Board</td>\n",
              "      <td>RIRUO</td>\n",
              "      <td>17.0</td>\n",
              "      <td>44.0</td>\n",
              "      <td>131.0</td>\n",
              "      <td>NaN</td>\n",
              "      <td>Inside Rampal Industries,ULUBERIA</td>\n",
              "      <td>NaN</td>\n",
              "      <td>2015-12-18</td>\n",
              "    </tr>\n",
              "    <tr>\n",
              "      <th>435736</th>\n",
              "      <td>SAMP</td>\n",
              "      <td>21-12-15</td>\n",
              "      <td>West Bengal</td>\n",
              "      <td>ULUBERIA</td>\n",
              "      <td>West Bengal State Pollution Control Board</td>\n",
              "      <td>RIRUO</td>\n",
              "      <td>18.0</td>\n",
              "      <td>45.0</td>\n",
              "      <td>140.0</td>\n",
              "      <td>NaN</td>\n",
              "      <td>Inside Rampal Industries,ULUBERIA</td>\n",
              "      <td>NaN</td>\n",
              "      <td>2015-12-21</td>\n",
              "    </tr>\n",
              "    <tr>\n",
              "      <th>435737</th>\n",
              "      <td>SAMP</td>\n",
              "      <td>24-12-15</td>\n",
              "      <td>West Bengal</td>\n",
              "      <td>ULUBERIA</td>\n",
              "      <td>West Bengal State Pollution Control Board</td>\n",
              "      <td>RIRUO</td>\n",
              "      <td>22.0</td>\n",
              "      <td>50.0</td>\n",
              "      <td>143.0</td>\n",
              "      <td>NaN</td>\n",
              "      <td>Inside Rampal Industries,ULUBERIA</td>\n",
              "      <td>NaN</td>\n",
              "      <td>2015-12-24</td>\n",
              "    </tr>\n",
              "    <tr>\n",
              "      <th>435738</th>\n",
              "      <td>SAMP</td>\n",
              "      <td>29-12-15</td>\n",
              "      <td>West Bengal</td>\n",
              "      <td>ULUBERIA</td>\n",
              "      <td>West Bengal State Pollution Control Board</td>\n",
              "      <td>RIRUO</td>\n",
              "      <td>20.0</td>\n",
              "      <td>46.0</td>\n",
              "      <td>171.0</td>\n",
              "      <td>NaN</td>\n",
              "      <td>Inside Rampal Industries,ULUBERIA</td>\n",
              "      <td>NaN</td>\n",
              "      <td>2015-12-29</td>\n",
              "    </tr>\n",
              "    <tr>\n",
              "      <th>435739</th>\n",
              "      <td>NaN</td>\n",
              "      <td>NaN</td>\n",
              "      <td>andaman-and-nicobar-islands</td>\n",
              "      <td>NaN</td>\n",
              "      <td>NaN</td>\n",
              "      <td>NaN</td>\n",
              "      <td>NaN</td>\n",
              "      <td>NaN</td>\n",
              "      <td>NaN</td>\n",
              "      <td>NaN</td>\n",
              "      <td>NaN</td>\n",
              "      <td>NaN</td>\n",
              "      <td>NaN</td>\n",
              "    </tr>\n",
              "    <tr>\n",
              "      <th>435740</th>\n",
              "      <td>NaN</td>\n",
              "      <td>NaN</td>\n",
              "      <td>Lakshadweep</td>\n",
              "      <td>NaN</td>\n",
              "      <td>NaN</td>\n",
              "      <td>NaN</td>\n",
              "      <td>NaN</td>\n",
              "      <td>NaN</td>\n",
              "      <td>NaN</td>\n",
              "      <td>NaN</td>\n",
              "      <td>NaN</td>\n",
              "      <td>NaN</td>\n",
              "      <td>NaN</td>\n",
              "    </tr>\n",
              "    <tr>\n",
              "      <th>435741</th>\n",
              "      <td>NaN</td>\n",
              "      <td>NaN</td>\n",
              "      <td>Tripura</td>\n",
              "      <td>NaN</td>\n",
              "      <td>NaN</td>\n",
              "      <td>NaN</td>\n",
              "      <td>NaN</td>\n",
              "      <td>NaN</td>\n",
              "      <td>NaN</td>\n",
              "      <td>NaN</td>\n",
              "      <td>NaN</td>\n",
              "      <td>NaN</td>\n",
              "      <td>NaN</td>\n",
              "    </tr>\n",
              "  </tbody>\n",
              "</table>\n",
              "</div>"
            ],
            "text/plain": [
              "       stn_code sampling_date  ... pm2_5        date\n",
              "435732     SAMP      09-12-15  ...   NaN  2015-12-09\n",
              "435733     SAMP      12-12-15  ...   NaN  2015-12-12\n",
              "435734     SAMP      15-12-15  ...   NaN  2015-12-15\n",
              "435735     SAMP      18-12-15  ...   NaN  2015-12-18\n",
              "435736     SAMP      21-12-15  ...   NaN  2015-12-21\n",
              "435737     SAMP      24-12-15  ...   NaN  2015-12-24\n",
              "435738     SAMP      29-12-15  ...   NaN  2015-12-29\n",
              "435739      NaN           NaN  ...   NaN         NaN\n",
              "435740      NaN           NaN  ...   NaN         NaN\n",
              "435741      NaN           NaN  ...   NaN         NaN\n",
              "\n",
              "[10 rows x 13 columns]"
            ]
          },
          "metadata": {
            "tags": []
          },
          "execution_count": 492
        }
      ]
    },
    {
      "cell_type": "markdown",
      "metadata": {
        "id": "Zkxvb6MueBTO"
      },
      "source": [
        "## Cleansing the dataset\n",
        "### Dropping of less valued columns:\n",
        "1. stn_code, agency, sampling_date, location_monitoring_agency do not add much value to the dataset in terms of information. Therefore, we can drop those columns.\n",
        "\n",
        "2. Dropping rows where no date is available."
      ]
    },
    {
      "cell_type": "code",
      "metadata": {
        "id": "yhU-zzifeBTP",
        "colab": {
          "base_uri": "https://localhost:8080/",
          "height": 406
        },
        "outputId": "1e0d427f-3a58-4efc-9569-3ee792646a2b"
      },
      "source": [
        "# Cleaning up the data\n",
        "\n",
        "data = data.drop(['stn_code', 'agency', 'sampling_date','location_monitoring_station'], axis=1)\n",
        "\n",
        "\n",
        "# dropping rows where no date is available\n",
        "\n",
        "data = data.dropna(subset=['date'])\n",
        "data"
      ],
      "execution_count": 493,
      "outputs": [
        {
          "output_type": "execute_result",
          "data": {
            "text/html": [
              "<div>\n",
              "<style scoped>\n",
              "    .dataframe tbody tr th:only-of-type {\n",
              "        vertical-align: middle;\n",
              "    }\n",
              "\n",
              "    .dataframe tbody tr th {\n",
              "        vertical-align: top;\n",
              "    }\n",
              "\n",
              "    .dataframe thead th {\n",
              "        text-align: right;\n",
              "    }\n",
              "</style>\n",
              "<table border=\"1\" class=\"dataframe\">\n",
              "  <thead>\n",
              "    <tr style=\"text-align: right;\">\n",
              "      <th></th>\n",
              "      <th>state</th>\n",
              "      <th>location</th>\n",
              "      <th>type</th>\n",
              "      <th>so2</th>\n",
              "      <th>no2</th>\n",
              "      <th>rspm</th>\n",
              "      <th>spm</th>\n",
              "      <th>pm2_5</th>\n",
              "      <th>date</th>\n",
              "    </tr>\n",
              "  </thead>\n",
              "  <tbody>\n",
              "    <tr>\n",
              "      <th>0</th>\n",
              "      <td>Andhra Pradesh</td>\n",
              "      <td>Hyderabad</td>\n",
              "      <td>Residential, Rural and other Areas</td>\n",
              "      <td>4.8</td>\n",
              "      <td>17.4</td>\n",
              "      <td>NaN</td>\n",
              "      <td>NaN</td>\n",
              "      <td>NaN</td>\n",
              "      <td>1990-02-01</td>\n",
              "    </tr>\n",
              "    <tr>\n",
              "      <th>1</th>\n",
              "      <td>Andhra Pradesh</td>\n",
              "      <td>Hyderabad</td>\n",
              "      <td>Industrial Area</td>\n",
              "      <td>3.1</td>\n",
              "      <td>7.0</td>\n",
              "      <td>NaN</td>\n",
              "      <td>NaN</td>\n",
              "      <td>NaN</td>\n",
              "      <td>1990-02-01</td>\n",
              "    </tr>\n",
              "    <tr>\n",
              "      <th>2</th>\n",
              "      <td>Andhra Pradesh</td>\n",
              "      <td>Hyderabad</td>\n",
              "      <td>Residential, Rural and other Areas</td>\n",
              "      <td>6.2</td>\n",
              "      <td>28.5</td>\n",
              "      <td>NaN</td>\n",
              "      <td>NaN</td>\n",
              "      <td>NaN</td>\n",
              "      <td>1990-02-01</td>\n",
              "    </tr>\n",
              "    <tr>\n",
              "      <th>3</th>\n",
              "      <td>Andhra Pradesh</td>\n",
              "      <td>Hyderabad</td>\n",
              "      <td>Residential, Rural and other Areas</td>\n",
              "      <td>6.3</td>\n",
              "      <td>14.7</td>\n",
              "      <td>NaN</td>\n",
              "      <td>NaN</td>\n",
              "      <td>NaN</td>\n",
              "      <td>1990-03-01</td>\n",
              "    </tr>\n",
              "    <tr>\n",
              "      <th>4</th>\n",
              "      <td>Andhra Pradesh</td>\n",
              "      <td>Hyderabad</td>\n",
              "      <td>Industrial Area</td>\n",
              "      <td>4.7</td>\n",
              "      <td>7.5</td>\n",
              "      <td>NaN</td>\n",
              "      <td>NaN</td>\n",
              "      <td>NaN</td>\n",
              "      <td>1990-03-01</td>\n",
              "    </tr>\n",
              "    <tr>\n",
              "      <th>...</th>\n",
              "      <td>...</td>\n",
              "      <td>...</td>\n",
              "      <td>...</td>\n",
              "      <td>...</td>\n",
              "      <td>...</td>\n",
              "      <td>...</td>\n",
              "      <td>...</td>\n",
              "      <td>...</td>\n",
              "      <td>...</td>\n",
              "    </tr>\n",
              "    <tr>\n",
              "      <th>435734</th>\n",
              "      <td>West Bengal</td>\n",
              "      <td>ULUBERIA</td>\n",
              "      <td>RIRUO</td>\n",
              "      <td>20.0</td>\n",
              "      <td>44.0</td>\n",
              "      <td>148.0</td>\n",
              "      <td>NaN</td>\n",
              "      <td>NaN</td>\n",
              "      <td>2015-12-15</td>\n",
              "    </tr>\n",
              "    <tr>\n",
              "      <th>435735</th>\n",
              "      <td>West Bengal</td>\n",
              "      <td>ULUBERIA</td>\n",
              "      <td>RIRUO</td>\n",
              "      <td>17.0</td>\n",
              "      <td>44.0</td>\n",
              "      <td>131.0</td>\n",
              "      <td>NaN</td>\n",
              "      <td>NaN</td>\n",
              "      <td>2015-12-18</td>\n",
              "    </tr>\n",
              "    <tr>\n",
              "      <th>435736</th>\n",
              "      <td>West Bengal</td>\n",
              "      <td>ULUBERIA</td>\n",
              "      <td>RIRUO</td>\n",
              "      <td>18.0</td>\n",
              "      <td>45.0</td>\n",
              "      <td>140.0</td>\n",
              "      <td>NaN</td>\n",
              "      <td>NaN</td>\n",
              "      <td>2015-12-21</td>\n",
              "    </tr>\n",
              "    <tr>\n",
              "      <th>435737</th>\n",
              "      <td>West Bengal</td>\n",
              "      <td>ULUBERIA</td>\n",
              "      <td>RIRUO</td>\n",
              "      <td>22.0</td>\n",
              "      <td>50.0</td>\n",
              "      <td>143.0</td>\n",
              "      <td>NaN</td>\n",
              "      <td>NaN</td>\n",
              "      <td>2015-12-24</td>\n",
              "    </tr>\n",
              "    <tr>\n",
              "      <th>435738</th>\n",
              "      <td>West Bengal</td>\n",
              "      <td>ULUBERIA</td>\n",
              "      <td>RIRUO</td>\n",
              "      <td>20.0</td>\n",
              "      <td>46.0</td>\n",
              "      <td>171.0</td>\n",
              "      <td>NaN</td>\n",
              "      <td>NaN</td>\n",
              "      <td>2015-12-29</td>\n",
              "    </tr>\n",
              "  </tbody>\n",
              "</table>\n",
              "<p>435735 rows × 9 columns</p>\n",
              "</div>"
            ],
            "text/plain": [
              "                 state   location  ... pm2_5        date\n",
              "0       Andhra Pradesh  Hyderabad  ...   NaN  1990-02-01\n",
              "1       Andhra Pradesh  Hyderabad  ...   NaN  1990-02-01\n",
              "2       Andhra Pradesh  Hyderabad  ...   NaN  1990-02-01\n",
              "3       Andhra Pradesh  Hyderabad  ...   NaN  1990-03-01\n",
              "4       Andhra Pradesh  Hyderabad  ...   NaN  1990-03-01\n",
              "...                ...        ...  ...   ...         ...\n",
              "435734     West Bengal   ULUBERIA  ...   NaN  2015-12-15\n",
              "435735     West Bengal   ULUBERIA  ...   NaN  2015-12-18\n",
              "435736     West Bengal   ULUBERIA  ...   NaN  2015-12-21\n",
              "435737     West Bengal   ULUBERIA  ...   NaN  2015-12-24\n",
              "435738     West Bengal   ULUBERIA  ...   NaN  2015-12-29\n",
              "\n",
              "[435735 rows x 9 columns]"
            ]
          },
          "metadata": {
            "tags": []
          },
          "execution_count": 493
        }
      ]
    },
    {
      "cell_type": "code",
      "metadata": {
        "id": "bna4lF82eBTP",
        "colab": {
          "base_uri": "https://localhost:8080/"
        },
        "outputId": "bad7dbb6-996a-4aa7-a73e-b217246f687b"
      },
      "source": [
        "# displaying final columns (data.columns)\n",
        "\n",
        "data.columns"
      ],
      "execution_count": 494,
      "outputs": [
        {
          "output_type": "execute_result",
          "data": {
            "text/plain": [
              "Index(['state', 'location', 'type', 'so2', 'no2', 'rspm', 'spm', 'pm2_5',\n",
              "       'date'],\n",
              "      dtype='object')"
            ]
          },
          "metadata": {
            "tags": []
          },
          "execution_count": 494
        }
      ]
    },
    {
      "cell_type": "markdown",
      "metadata": {
        "id": "HLqnAAwxeBTQ"
      },
      "source": [
        "### Changing the types to uniform format:\n",
        "\n",
        "Notice that the ‘type’ column has values such as ‘Industrial Area’ and ‘Industrial Areas’ — both actually mean the same, so let’s remove such type of stuff and make it uniform. Replace the 'type' values with standard codes as follows:\n",
        "\n",
        "types = {\n",
        "    \"Residential\": \"R\",\n",
        "    \"Residential and others\": \"RO\",\n",
        "    \"Residential, Rural and other Areas\": \"RRO\",\n",
        "    \"Industrial Area\": \"I\",\n",
        "    \"Industrial Areas\": \"I\",\n",
        "    \"Industrial\": \"I\",\n",
        "    \"Sensitive Area\": \"S\",\n",
        "    \"Sensitive Areas\": \"S\",\n",
        "    \"Sensitive\": \"S\",\n",
        "    np.nan: \"RRO\"\n",
        "}\n",
        "\n",
        "data.type = data.type.replace(types)"
      ]
    },
    {
      "cell_type": "code",
      "metadata": {
        "id": "_LT35H10eBTR"
      },
      "source": [
        "data.type = data.type.replace({\"Residential\": \"R\", \"Residential and others\": \"RO\", \"Residential, Rural and other Areas\": \"RRO\", \"Industrial Area\": \"I\", \"Industrial Areas\": \"I\", \"Industrial\": \"I\", \"Sensitive Area\": \"S\", \"Sensitive Areas\": \"S\", \"Sensitive\": \"S\", np.nan: \"RRO\" })"
      ],
      "execution_count": 495,
      "outputs": []
    },
    {
      "cell_type": "code",
      "metadata": {
        "id": "Q2OUyFGYeBTR",
        "colab": {
          "base_uri": "https://localhost:8080/",
          "height": 347
        },
        "outputId": "bceee182-e9f0-42dd-a7eb-1eafc35293d5"
      },
      "source": [
        "# Display top 10 records after codification of 'types'\n",
        "data.head(10)"
      ],
      "execution_count": 496,
      "outputs": [
        {
          "output_type": "execute_result",
          "data": {
            "text/html": [
              "<div>\n",
              "<style scoped>\n",
              "    .dataframe tbody tr th:only-of-type {\n",
              "        vertical-align: middle;\n",
              "    }\n",
              "\n",
              "    .dataframe tbody tr th {\n",
              "        vertical-align: top;\n",
              "    }\n",
              "\n",
              "    .dataframe thead th {\n",
              "        text-align: right;\n",
              "    }\n",
              "</style>\n",
              "<table border=\"1\" class=\"dataframe\">\n",
              "  <thead>\n",
              "    <tr style=\"text-align: right;\">\n",
              "      <th></th>\n",
              "      <th>state</th>\n",
              "      <th>location</th>\n",
              "      <th>type</th>\n",
              "      <th>so2</th>\n",
              "      <th>no2</th>\n",
              "      <th>rspm</th>\n",
              "      <th>spm</th>\n",
              "      <th>pm2_5</th>\n",
              "      <th>date</th>\n",
              "    </tr>\n",
              "  </thead>\n",
              "  <tbody>\n",
              "    <tr>\n",
              "      <th>0</th>\n",
              "      <td>Andhra Pradesh</td>\n",
              "      <td>Hyderabad</td>\n",
              "      <td>RRO</td>\n",
              "      <td>4.8</td>\n",
              "      <td>17.4</td>\n",
              "      <td>NaN</td>\n",
              "      <td>NaN</td>\n",
              "      <td>NaN</td>\n",
              "      <td>1990-02-01</td>\n",
              "    </tr>\n",
              "    <tr>\n",
              "      <th>1</th>\n",
              "      <td>Andhra Pradesh</td>\n",
              "      <td>Hyderabad</td>\n",
              "      <td>I</td>\n",
              "      <td>3.1</td>\n",
              "      <td>7.0</td>\n",
              "      <td>NaN</td>\n",
              "      <td>NaN</td>\n",
              "      <td>NaN</td>\n",
              "      <td>1990-02-01</td>\n",
              "    </tr>\n",
              "    <tr>\n",
              "      <th>2</th>\n",
              "      <td>Andhra Pradesh</td>\n",
              "      <td>Hyderabad</td>\n",
              "      <td>RRO</td>\n",
              "      <td>6.2</td>\n",
              "      <td>28.5</td>\n",
              "      <td>NaN</td>\n",
              "      <td>NaN</td>\n",
              "      <td>NaN</td>\n",
              "      <td>1990-02-01</td>\n",
              "    </tr>\n",
              "    <tr>\n",
              "      <th>3</th>\n",
              "      <td>Andhra Pradesh</td>\n",
              "      <td>Hyderabad</td>\n",
              "      <td>RRO</td>\n",
              "      <td>6.3</td>\n",
              "      <td>14.7</td>\n",
              "      <td>NaN</td>\n",
              "      <td>NaN</td>\n",
              "      <td>NaN</td>\n",
              "      <td>1990-03-01</td>\n",
              "    </tr>\n",
              "    <tr>\n",
              "      <th>4</th>\n",
              "      <td>Andhra Pradesh</td>\n",
              "      <td>Hyderabad</td>\n",
              "      <td>I</td>\n",
              "      <td>4.7</td>\n",
              "      <td>7.5</td>\n",
              "      <td>NaN</td>\n",
              "      <td>NaN</td>\n",
              "      <td>NaN</td>\n",
              "      <td>1990-03-01</td>\n",
              "    </tr>\n",
              "    <tr>\n",
              "      <th>5</th>\n",
              "      <td>Andhra Pradesh</td>\n",
              "      <td>Hyderabad</td>\n",
              "      <td>RRO</td>\n",
              "      <td>6.4</td>\n",
              "      <td>25.7</td>\n",
              "      <td>NaN</td>\n",
              "      <td>NaN</td>\n",
              "      <td>NaN</td>\n",
              "      <td>1990-03-01</td>\n",
              "    </tr>\n",
              "    <tr>\n",
              "      <th>6</th>\n",
              "      <td>Andhra Pradesh</td>\n",
              "      <td>Hyderabad</td>\n",
              "      <td>RRO</td>\n",
              "      <td>5.4</td>\n",
              "      <td>17.1</td>\n",
              "      <td>NaN</td>\n",
              "      <td>NaN</td>\n",
              "      <td>NaN</td>\n",
              "      <td>1990-04-01</td>\n",
              "    </tr>\n",
              "    <tr>\n",
              "      <th>7</th>\n",
              "      <td>Andhra Pradesh</td>\n",
              "      <td>Hyderabad</td>\n",
              "      <td>I</td>\n",
              "      <td>4.7</td>\n",
              "      <td>8.7</td>\n",
              "      <td>NaN</td>\n",
              "      <td>NaN</td>\n",
              "      <td>NaN</td>\n",
              "      <td>1990-04-01</td>\n",
              "    </tr>\n",
              "    <tr>\n",
              "      <th>8</th>\n",
              "      <td>Andhra Pradesh</td>\n",
              "      <td>Hyderabad</td>\n",
              "      <td>RRO</td>\n",
              "      <td>4.2</td>\n",
              "      <td>23.0</td>\n",
              "      <td>NaN</td>\n",
              "      <td>NaN</td>\n",
              "      <td>NaN</td>\n",
              "      <td>1990-04-01</td>\n",
              "    </tr>\n",
              "    <tr>\n",
              "      <th>9</th>\n",
              "      <td>Andhra Pradesh</td>\n",
              "      <td>Hyderabad</td>\n",
              "      <td>I</td>\n",
              "      <td>4.0</td>\n",
              "      <td>8.9</td>\n",
              "      <td>NaN</td>\n",
              "      <td>NaN</td>\n",
              "      <td>NaN</td>\n",
              "      <td>1990-05-01</td>\n",
              "    </tr>\n",
              "  </tbody>\n",
              "</table>\n",
              "</div>"
            ],
            "text/plain": [
              "            state   location type  so2   no2  rspm  spm  pm2_5        date\n",
              "0  Andhra Pradesh  Hyderabad  RRO  4.8  17.4   NaN  NaN    NaN  1990-02-01\n",
              "1  Andhra Pradesh  Hyderabad    I  3.1   7.0   NaN  NaN    NaN  1990-02-01\n",
              "2  Andhra Pradesh  Hyderabad  RRO  6.2  28.5   NaN  NaN    NaN  1990-02-01\n",
              "3  Andhra Pradesh  Hyderabad  RRO  6.3  14.7   NaN  NaN    NaN  1990-03-01\n",
              "4  Andhra Pradesh  Hyderabad    I  4.7   7.5   NaN  NaN    NaN  1990-03-01\n",
              "5  Andhra Pradesh  Hyderabad  RRO  6.4  25.7   NaN  NaN    NaN  1990-03-01\n",
              "6  Andhra Pradesh  Hyderabad  RRO  5.4  17.1   NaN  NaN    NaN  1990-04-01\n",
              "7  Andhra Pradesh  Hyderabad    I  4.7   8.7   NaN  NaN    NaN  1990-04-01\n",
              "8  Andhra Pradesh  Hyderabad  RRO  4.2  23.0   NaN  NaN    NaN  1990-04-01\n",
              "9  Andhra Pradesh  Hyderabad    I  4.0   8.9   NaN  NaN    NaN  1990-05-01"
            ]
          },
          "metadata": {
            "tags": []
          },
          "execution_count": 496
        }
      ]
    },
    {
      "cell_type": "markdown",
      "metadata": {
        "id": "Rgr9G2tLeBTR"
      },
      "source": [
        "### Creating a year column\n",
        "To view the trend over a period of time, we need year values for each row and also when you see in most of the values in date column only has ‘year’ value. So, let’s create a new column holding year values. Convert the column to 'datetime' type and extract the year to populate the new column. Display Top 5 records after the conversion."
      ]
    },
    {
      "cell_type": "code",
      "metadata": {
        "id": "v6OxTzn-eBTR",
        "colab": {
          "base_uri": "https://localhost:8080/",
          "height": 482
        },
        "outputId": "701d8241-fcfe-4231-f6a2-1d2215ff1385"
      },
      "source": [
        "data.date = pd.to_datetime(data.date)\n",
        "data.info()\n",
        "\n",
        "data['year'] = data.date.dt.year\n",
        "\n",
        "data.head(5)"
      ],
      "execution_count": 497,
      "outputs": [
        {
          "output_type": "stream",
          "text": [
            "<class 'pandas.core.frame.DataFrame'>\n",
            "Int64Index: 435735 entries, 0 to 435738\n",
            "Data columns (total 9 columns):\n",
            " #   Column    Non-Null Count   Dtype         \n",
            "---  ------    --------------   -----         \n",
            " 0   state     435735 non-null  object        \n",
            " 1   location  435735 non-null  object        \n",
            " 2   type      435735 non-null  object        \n",
            " 3   so2       401092 non-null  float64       \n",
            " 4   no2       419505 non-null  float64       \n",
            " 5   rspm      395516 non-null  float64       \n",
            " 6   spm       198355 non-null  float64       \n",
            " 7   pm2_5     9314 non-null    float64       \n",
            " 8   date      435735 non-null  datetime64[ns]\n",
            "dtypes: datetime64[ns](1), float64(5), object(3)\n",
            "memory usage: 33.2+ MB\n"
          ],
          "name": "stdout"
        },
        {
          "output_type": "execute_result",
          "data": {
            "text/html": [
              "<div>\n",
              "<style scoped>\n",
              "    .dataframe tbody tr th:only-of-type {\n",
              "        vertical-align: middle;\n",
              "    }\n",
              "\n",
              "    .dataframe tbody tr th {\n",
              "        vertical-align: top;\n",
              "    }\n",
              "\n",
              "    .dataframe thead th {\n",
              "        text-align: right;\n",
              "    }\n",
              "</style>\n",
              "<table border=\"1\" class=\"dataframe\">\n",
              "  <thead>\n",
              "    <tr style=\"text-align: right;\">\n",
              "      <th></th>\n",
              "      <th>state</th>\n",
              "      <th>location</th>\n",
              "      <th>type</th>\n",
              "      <th>so2</th>\n",
              "      <th>no2</th>\n",
              "      <th>rspm</th>\n",
              "      <th>spm</th>\n",
              "      <th>pm2_5</th>\n",
              "      <th>date</th>\n",
              "      <th>year</th>\n",
              "    </tr>\n",
              "  </thead>\n",
              "  <tbody>\n",
              "    <tr>\n",
              "      <th>0</th>\n",
              "      <td>Andhra Pradesh</td>\n",
              "      <td>Hyderabad</td>\n",
              "      <td>RRO</td>\n",
              "      <td>4.8</td>\n",
              "      <td>17.4</td>\n",
              "      <td>NaN</td>\n",
              "      <td>NaN</td>\n",
              "      <td>NaN</td>\n",
              "      <td>1990-02-01</td>\n",
              "      <td>1990</td>\n",
              "    </tr>\n",
              "    <tr>\n",
              "      <th>1</th>\n",
              "      <td>Andhra Pradesh</td>\n",
              "      <td>Hyderabad</td>\n",
              "      <td>I</td>\n",
              "      <td>3.1</td>\n",
              "      <td>7.0</td>\n",
              "      <td>NaN</td>\n",
              "      <td>NaN</td>\n",
              "      <td>NaN</td>\n",
              "      <td>1990-02-01</td>\n",
              "      <td>1990</td>\n",
              "    </tr>\n",
              "    <tr>\n",
              "      <th>2</th>\n",
              "      <td>Andhra Pradesh</td>\n",
              "      <td>Hyderabad</td>\n",
              "      <td>RRO</td>\n",
              "      <td>6.2</td>\n",
              "      <td>28.5</td>\n",
              "      <td>NaN</td>\n",
              "      <td>NaN</td>\n",
              "      <td>NaN</td>\n",
              "      <td>1990-02-01</td>\n",
              "      <td>1990</td>\n",
              "    </tr>\n",
              "    <tr>\n",
              "      <th>3</th>\n",
              "      <td>Andhra Pradesh</td>\n",
              "      <td>Hyderabad</td>\n",
              "      <td>RRO</td>\n",
              "      <td>6.3</td>\n",
              "      <td>14.7</td>\n",
              "      <td>NaN</td>\n",
              "      <td>NaN</td>\n",
              "      <td>NaN</td>\n",
              "      <td>1990-03-01</td>\n",
              "      <td>1990</td>\n",
              "    </tr>\n",
              "    <tr>\n",
              "      <th>4</th>\n",
              "      <td>Andhra Pradesh</td>\n",
              "      <td>Hyderabad</td>\n",
              "      <td>I</td>\n",
              "      <td>4.7</td>\n",
              "      <td>7.5</td>\n",
              "      <td>NaN</td>\n",
              "      <td>NaN</td>\n",
              "      <td>NaN</td>\n",
              "      <td>1990-03-01</td>\n",
              "      <td>1990</td>\n",
              "    </tr>\n",
              "  </tbody>\n",
              "</table>\n",
              "</div>"
            ],
            "text/plain": [
              "            state   location type  so2   no2  rspm  spm  pm2_5       date  year\n",
              "0  Andhra Pradesh  Hyderabad  RRO  4.8  17.4   NaN  NaN    NaN 1990-02-01  1990\n",
              "1  Andhra Pradesh  Hyderabad    I  3.1   7.0   NaN  NaN    NaN 1990-02-01  1990\n",
              "2  Andhra Pradesh  Hyderabad  RRO  6.2  28.5   NaN  NaN    NaN 1990-02-01  1990\n",
              "3  Andhra Pradesh  Hyderabad  RRO  6.3  14.7   NaN  NaN    NaN 1990-03-01  1990\n",
              "4  Andhra Pradesh  Hyderabad    I  4.7   7.5   NaN  NaN    NaN 1990-03-01  1990"
            ]
          },
          "metadata": {
            "tags": []
          },
          "execution_count": 497
        }
      ]
    },
    {
      "cell_type": "markdown",
      "metadata": {
        "id": "f9fVmby7eBTS"
      },
      "source": [
        "### Handling Missing Values\n",
        "\n",
        "The column such as SO2, NO2, rspm, spm, pm2_5 are the ones which contribute much to our analysis. So, we need to remove null from those columns to avoid inaccuracy in the prediction.\n",
        "We use the Imputer from sklearn.preprocessing to fill the missing values in every column with the mean."
      ]
    },
    {
      "cell_type": "code",
      "metadata": {
        "collapsed": true,
        "id": "Fmr0vP-7eBTS",
        "colab": {
          "base_uri": "https://localhost:8080/"
        },
        "outputId": "7fad8207-803b-480b-ee8e-ef473284632b"
      },
      "source": [
        "# define columns of importance, which shall be used reguarly (COLS = ....)\n",
        "COLS = 'so2', 'no2', 'rspm', 'spm', 'pm2_5'\n",
        "\n",
        "# invoke SimpleImputer to fill missing values using 'mean' as the replacement strategy\n",
        "imputer = SimpleImputer(missing_values=np.nan, strategy='mean')\n",
        "data[['so2', 'no2', 'rspm', 'spm', 'pm2_5']] = imputer.fit_transform(data[['so2', 'no2', 'rspm', 'spm', 'pm2_5']])\n",
        "\n",
        "# Display data.info after the transformation\n",
        "data.info()\n",
        "\n",
        "# Display that there are no more missing values in the dataset\n",
        "data.isnull().sum()"
      ],
      "execution_count": 498,
      "outputs": [
        {
          "output_type": "stream",
          "text": [
            "<class 'pandas.core.frame.DataFrame'>\n",
            "Int64Index: 435735 entries, 0 to 435738\n",
            "Data columns (total 10 columns):\n",
            " #   Column    Non-Null Count   Dtype         \n",
            "---  ------    --------------   -----         \n",
            " 0   state     435735 non-null  object        \n",
            " 1   location  435735 non-null  object        \n",
            " 2   type      435735 non-null  object        \n",
            " 3   so2       435735 non-null  float64       \n",
            " 4   no2       435735 non-null  float64       \n",
            " 5   rspm      435735 non-null  float64       \n",
            " 6   spm       435735 non-null  float64       \n",
            " 7   pm2_5     435735 non-null  float64       \n",
            " 8   date      435735 non-null  datetime64[ns]\n",
            " 9   year      435735 non-null  int64         \n",
            "dtypes: datetime64[ns](1), float64(5), int64(1), object(3)\n",
            "memory usage: 36.6+ MB\n"
          ],
          "name": "stdout"
        },
        {
          "output_type": "execute_result",
          "data": {
            "text/plain": [
              "state       0\n",
              "location    0\n",
              "type        0\n",
              "so2         0\n",
              "no2         0\n",
              "rspm        0\n",
              "spm         0\n",
              "pm2_5       0\n",
              "date        0\n",
              "year        0\n",
              "dtype: int64"
            ]
          },
          "metadata": {
            "tags": []
          },
          "execution_count": 498
        }
      ]
    },
    {
      "cell_type": "markdown",
      "metadata": {
        "id": "khRpEoMjeBTS"
      },
      "source": [
        "## Statewise Grouping of so2, no2, rspm, spm values\n",
        "\n",
        "Calculate median values of so2, no2, rspm, spm for each state and display in (a) as table (b) bar chart, with values sorted in ascending order. Separate section for each of the component. Use matplotlib()."
      ]
    },
    {
      "cell_type": "markdown",
      "metadata": {
        "id": "s7-kzbF5eBTS"
      },
      "source": [
        "### so2 status"
      ]
    },
    {
      "cell_type": "code",
      "metadata": {
        "id": "Wbq1nNogeBTT",
        "colab": {
          "base_uri": "https://localhost:8080/",
          "height": 1000
        },
        "outputId": "74c2ac53-1bd0-4667-f36b-e454c5b1e142"
      },
      "source": [
        "# Group by state\n",
        "so2 = data.groupby('state')['so2'].median().sort_values(ascending=True)\n",
        "\n",
        "# Display as table\n",
        "display(pd.DataFrame(so2))"
      ],
      "execution_count": 499,
      "outputs": [
        {
          "output_type": "display_data",
          "data": {
            "text/html": [
              "<div>\n",
              "<style scoped>\n",
              "    .dataframe tbody tr th:only-of-type {\n",
              "        vertical-align: middle;\n",
              "    }\n",
              "\n",
              "    .dataframe tbody tr th {\n",
              "        vertical-align: top;\n",
              "    }\n",
              "\n",
              "    .dataframe thead th {\n",
              "        text-align: right;\n",
              "    }\n",
              "</style>\n",
              "<table border=\"1\" class=\"dataframe\">\n",
              "  <thead>\n",
              "    <tr style=\"text-align: right;\">\n",
              "      <th></th>\n",
              "      <th>so2</th>\n",
              "    </tr>\n",
              "    <tr>\n",
              "      <th>state</th>\n",
              "      <th></th>\n",
              "    </tr>\n",
              "  </thead>\n",
              "  <tbody>\n",
              "    <tr>\n",
              "      <th>Nagaland</th>\n",
              "      <td>2.000000</td>\n",
              "    </tr>\n",
              "    <tr>\n",
              "      <th>Mizoram</th>\n",
              "      <td>2.000000</td>\n",
              "    </tr>\n",
              "    <tr>\n",
              "      <th>Meghalaya</th>\n",
              "      <td>2.000000</td>\n",
              "    </tr>\n",
              "    <tr>\n",
              "      <th>Arunachal Pradesh</th>\n",
              "      <td>2.500000</td>\n",
              "    </tr>\n",
              "    <tr>\n",
              "      <th>Himachal Pradesh</th>\n",
              "      <td>3.000000</td>\n",
              "    </tr>\n",
              "    <tr>\n",
              "      <th>Kerala</th>\n",
              "      <td>4.200000</td>\n",
              "    </tr>\n",
              "    <tr>\n",
              "      <th>Telangana</th>\n",
              "      <td>5.000000</td>\n",
              "    </tr>\n",
              "    <tr>\n",
              "      <th>Odisha</th>\n",
              "      <td>5.000000</td>\n",
              "    </tr>\n",
              "    <tr>\n",
              "      <th>Jammu &amp; Kashmir</th>\n",
              "      <td>5.000000</td>\n",
              "    </tr>\n",
              "    <tr>\n",
              "      <th>Andhra Pradesh</th>\n",
              "      <td>5.000000</td>\n",
              "    </tr>\n",
              "    <tr>\n",
              "      <th>Goa</th>\n",
              "      <td>6.000000</td>\n",
              "    </tr>\n",
              "    <tr>\n",
              "      <th>Rajasthan</th>\n",
              "      <td>6.300000</td>\n",
              "    </tr>\n",
              "    <tr>\n",
              "      <th>Delhi</th>\n",
              "      <td>6.300000</td>\n",
              "    </tr>\n",
              "    <tr>\n",
              "      <th>Assam</th>\n",
              "      <td>6.500000</td>\n",
              "    </tr>\n",
              "    <tr>\n",
              "      <th>Puducherry</th>\n",
              "      <td>7.266667</td>\n",
              "    </tr>\n",
              "    <tr>\n",
              "      <th>Daman &amp; Diu</th>\n",
              "      <td>7.600000</td>\n",
              "    </tr>\n",
              "    <tr>\n",
              "      <th>Chandigarh</th>\n",
              "      <td>7.950000</td>\n",
              "    </tr>\n",
              "    <tr>\n",
              "      <th>West Bengal</th>\n",
              "      <td>8.000000</td>\n",
              "    </tr>\n",
              "    <tr>\n",
              "      <th>Dadra &amp; Nagar Haveli</th>\n",
              "      <td>8.400000</td>\n",
              "    </tr>\n",
              "    <tr>\n",
              "      <th>Karnataka</th>\n",
              "      <td>10.000000</td>\n",
              "    </tr>\n",
              "    <tr>\n",
              "      <th>Uttar Pradesh</th>\n",
              "      <td>10.000000</td>\n",
              "    </tr>\n",
              "    <tr>\n",
              "      <th>Tamil Nadu</th>\n",
              "      <td>10.000000</td>\n",
              "    </tr>\n",
              "    <tr>\n",
              "      <th>Punjab</th>\n",
              "      <td>10.300000</td>\n",
              "    </tr>\n",
              "    <tr>\n",
              "      <th>Manipur</th>\n",
              "      <td>10.829428</td>\n",
              "    </tr>\n",
              "    <tr>\n",
              "      <th>Bihar</th>\n",
              "      <td>10.829428</td>\n",
              "    </tr>\n",
              "    <tr>\n",
              "      <th>Haryana</th>\n",
              "      <td>10.829428</td>\n",
              "    </tr>\n",
              "    <tr>\n",
              "      <th>Madhya Pradesh</th>\n",
              "      <td>10.829428</td>\n",
              "    </tr>\n",
              "    <tr>\n",
              "      <th>Chhattisgarh</th>\n",
              "      <td>12.500000</td>\n",
              "    </tr>\n",
              "    <tr>\n",
              "      <th>Maharashtra</th>\n",
              "      <td>13.000000</td>\n",
              "    </tr>\n",
              "    <tr>\n",
              "      <th>Gujarat</th>\n",
              "      <td>14.200000</td>\n",
              "    </tr>\n",
              "    <tr>\n",
              "      <th>Jharkhand</th>\n",
              "      <td>18.700000</td>\n",
              "    </tr>\n",
              "    <tr>\n",
              "      <th>Sikkim</th>\n",
              "      <td>19.800000</td>\n",
              "    </tr>\n",
              "    <tr>\n",
              "      <th>Uttarakhand</th>\n",
              "      <td>21.000000</td>\n",
              "    </tr>\n",
              "    <tr>\n",
              "      <th>Uttaranchal</th>\n",
              "      <td>25.100000</td>\n",
              "    </tr>\n",
              "  </tbody>\n",
              "</table>\n",
              "</div>"
            ],
            "text/plain": [
              "                            so2\n",
              "state                          \n",
              "Nagaland               2.000000\n",
              "Mizoram                2.000000\n",
              "Meghalaya              2.000000\n",
              "Arunachal Pradesh      2.500000\n",
              "Himachal Pradesh       3.000000\n",
              "Kerala                 4.200000\n",
              "Telangana              5.000000\n",
              "Odisha                 5.000000\n",
              "Jammu & Kashmir        5.000000\n",
              "Andhra Pradesh         5.000000\n",
              "Goa                    6.000000\n",
              "Rajasthan              6.300000\n",
              "Delhi                  6.300000\n",
              "Assam                  6.500000\n",
              "Puducherry             7.266667\n",
              "Daman & Diu            7.600000\n",
              "Chandigarh             7.950000\n",
              "West Bengal            8.000000\n",
              "Dadra & Nagar Haveli   8.400000\n",
              "Karnataka             10.000000\n",
              "Uttar Pradesh         10.000000\n",
              "Tamil Nadu            10.000000\n",
              "Punjab                10.300000\n",
              "Manipur               10.829428\n",
              "Bihar                 10.829428\n",
              "Haryana               10.829428\n",
              "Madhya Pradesh        10.829428\n",
              "Chhattisgarh          12.500000\n",
              "Maharashtra           13.000000\n",
              "Gujarat               14.200000\n",
              "Jharkhand             18.700000\n",
              "Sikkim                19.800000\n",
              "Uttarakhand           21.000000\n",
              "Uttaranchal           25.100000"
            ]
          },
          "metadata": {
            "tags": []
          }
        }
      ]
    },
    {
      "cell_type": "code",
      "metadata": {
        "colab": {
          "base_uri": "https://localhost:8080/",
          "height": 381
        },
        "id": "EEeZKuq30sMA",
        "outputId": "41a91b34-b88d-462d-d8e9-8304c9c49c4c"
      },
      "source": [
        "# Display as bar chart\n",
        "plt.bar(so2.index, so2)\n",
        "plt.title(\"Median SO2 by State\")\n",
        "plt.xticks(rotation=90)\n",
        "plt.show()"
      ],
      "execution_count": 500,
      "outputs": [
        {
          "output_type": "display_data",
          "data": {
            "image/png": "[encoded data removed]",
            "text/plain": [
              "<Figure size 432x288 with 1 Axes>"
            ]
          },
          "metadata": {
            "tags": [],
            "needs_background": "light"
          }
        }
      ]
    },
    {
      "cell_type": "markdown",
      "metadata": {
        "id": "BpvjRXvkeBTT"
      },
      "source": [
        "### no2 status"
      ]
    },
    {
      "cell_type": "code",
      "metadata": {
        "id": "BGBA99LweBTT",
        "colab": {
          "base_uri": "https://localhost:8080/",
          "height": 1000
        },
        "outputId": "8d07c0ec-cf4f-4eba-f282-af2b6c225f27"
      },
      "source": [
        "# Group by state\n",
        "no2 = data.groupby('state')['no2'].median().sort_values(ascending=True)\n",
        "\n",
        "# Display as table\n",
        "display(pd.DataFrame(no2))"
      ],
      "execution_count": 501,
      "outputs": [
        {
          "output_type": "display_data",
          "data": {
            "text/html": [
              "<div>\n",
              "<style scoped>\n",
              "    .dataframe tbody tr th:only-of-type {\n",
              "        vertical-align: middle;\n",
              "    }\n",
              "\n",
              "    .dataframe tbody tr th {\n",
              "        vertical-align: top;\n",
              "    }\n",
              "\n",
              "    .dataframe thead th {\n",
              "        text-align: right;\n",
              "    }\n",
              "</style>\n",
              "<table border=\"1\" class=\"dataframe\">\n",
              "  <thead>\n",
              "    <tr style=\"text-align: right;\">\n",
              "      <th></th>\n",
              "      <th>no2</th>\n",
              "    </tr>\n",
              "    <tr>\n",
              "      <th>state</th>\n",
              "      <th></th>\n",
              "    </tr>\n",
              "  </thead>\n",
              "  <tbody>\n",
              "    <tr>\n",
              "      <th>Arunachal Pradesh</th>\n",
              "      <td>5.000000</td>\n",
              "    </tr>\n",
              "    <tr>\n",
              "      <th>Mizoram</th>\n",
              "      <td>5.000000</td>\n",
              "    </tr>\n",
              "    <tr>\n",
              "      <th>Nagaland</th>\n",
              "      <td>7.000000</td>\n",
              "    </tr>\n",
              "    <tr>\n",
              "      <th>Meghalaya</th>\n",
              "      <td>10.000000</td>\n",
              "    </tr>\n",
              "    <tr>\n",
              "      <th>Goa</th>\n",
              "      <td>11.600000</td>\n",
              "    </tr>\n",
              "    <tr>\n",
              "      <th>Puducherry</th>\n",
              "      <td>13.000000</td>\n",
              "    </tr>\n",
              "    <tr>\n",
              "      <th>Jammu &amp; Kashmir</th>\n",
              "      <td>13.000000</td>\n",
              "    </tr>\n",
              "    <tr>\n",
              "      <th>Himachal Pradesh</th>\n",
              "      <td>13.900000</td>\n",
              "    </tr>\n",
              "    <tr>\n",
              "      <th>Kerala</th>\n",
              "      <td>14.000000</td>\n",
              "    </tr>\n",
              "    <tr>\n",
              "      <th>Assam</th>\n",
              "      <td>14.000000</td>\n",
              "    </tr>\n",
              "    <tr>\n",
              "      <th>Odisha</th>\n",
              "      <td>16.000000</td>\n",
              "    </tr>\n",
              "    <tr>\n",
              "      <th>Daman &amp; Diu</th>\n",
              "      <td>17.600000</td>\n",
              "    </tr>\n",
              "    <tr>\n",
              "      <th>Chandigarh</th>\n",
              "      <td>18.000000</td>\n",
              "    </tr>\n",
              "    <tr>\n",
              "      <th>Dadra &amp; Nagar Haveli</th>\n",
              "      <td>18.000000</td>\n",
              "    </tr>\n",
              "    <tr>\n",
              "      <th>Madhya Pradesh</th>\n",
              "      <td>19.200000</td>\n",
              "    </tr>\n",
              "    <tr>\n",
              "      <th>Manipur</th>\n",
              "      <td>19.800000</td>\n",
              "    </tr>\n",
              "    <tr>\n",
              "      <th>Andhra Pradesh</th>\n",
              "      <td>20.000000</td>\n",
              "    </tr>\n",
              "    <tr>\n",
              "      <th>Tamil Nadu</th>\n",
              "      <td>21.000000</td>\n",
              "    </tr>\n",
              "    <tr>\n",
              "      <th>Karnataka</th>\n",
              "      <td>21.200000</td>\n",
              "    </tr>\n",
              "    <tr>\n",
              "      <th>Chhattisgarh</th>\n",
              "      <td>21.500000</td>\n",
              "    </tr>\n",
              "    <tr>\n",
              "      <th>Telangana</th>\n",
              "      <td>22.000000</td>\n",
              "    </tr>\n",
              "    <tr>\n",
              "      <th>Haryana</th>\n",
              "      <td>22.750000</td>\n",
              "    </tr>\n",
              "    <tr>\n",
              "      <th>Gujarat</th>\n",
              "      <td>23.000000</td>\n",
              "    </tr>\n",
              "    <tr>\n",
              "      <th>Uttarakhand</th>\n",
              "      <td>25.809659</td>\n",
              "    </tr>\n",
              "    <tr>\n",
              "      <th>Rajasthan</th>\n",
              "      <td>26.000000</td>\n",
              "    </tr>\n",
              "    <tr>\n",
              "      <th>Sikkim</th>\n",
              "      <td>26.800000</td>\n",
              "    </tr>\n",
              "    <tr>\n",
              "      <th>Uttar Pradesh</th>\n",
              "      <td>27.000000</td>\n",
              "    </tr>\n",
              "    <tr>\n",
              "      <th>Uttaranchal</th>\n",
              "      <td>27.500000</td>\n",
              "    </tr>\n",
              "    <tr>\n",
              "      <th>Punjab</th>\n",
              "      <td>28.300000</td>\n",
              "    </tr>\n",
              "    <tr>\n",
              "      <th>Maharashtra</th>\n",
              "      <td>29.000000</td>\n",
              "    </tr>\n",
              "    <tr>\n",
              "      <th>Bihar</th>\n",
              "      <td>32.000000</td>\n",
              "    </tr>\n",
              "    <tr>\n",
              "      <th>Jharkhand</th>\n",
              "      <td>42.000000</td>\n",
              "    </tr>\n",
              "    <tr>\n",
              "      <th>Delhi</th>\n",
              "      <td>45.000000</td>\n",
              "    </tr>\n",
              "    <tr>\n",
              "      <th>West Bengal</th>\n",
              "      <td>53.700000</td>\n",
              "    </tr>\n",
              "  </tbody>\n",
              "</table>\n",
              "</div>"
            ],
            "text/plain": [
              "                            no2\n",
              "state                          \n",
              "Arunachal Pradesh      5.000000\n",
              "Mizoram                5.000000\n",
              "Nagaland               7.000000\n",
              "Meghalaya             10.000000\n",
              "Goa                   11.600000\n",
              "Puducherry            13.000000\n",
              "Jammu & Kashmir       13.000000\n",
              "Himachal Pradesh      13.900000\n",
              "Kerala                14.000000\n",
              "Assam                 14.000000\n",
              "Odisha                16.000000\n",
              "Daman & Diu           17.600000\n",
              "Chandigarh            18.000000\n",
              "Dadra & Nagar Haveli  18.000000\n",
              "Madhya Pradesh        19.200000\n",
              "Manipur               19.800000\n",
              "Andhra Pradesh        20.000000\n",
              "Tamil Nadu            21.000000\n",
              "Karnataka             21.200000\n",
              "Chhattisgarh          21.500000\n",
              "Telangana             22.000000\n",
              "Haryana               22.750000\n",
              "Gujarat               23.000000\n",
              "Uttarakhand           25.809659\n",
              "Rajasthan             26.000000\n",
              "Sikkim                26.800000\n",
              "Uttar Pradesh         27.000000\n",
              "Uttaranchal           27.500000\n",
              "Punjab                28.300000\n",
              "Maharashtra           29.000000\n",
              "Bihar                 32.000000\n",
              "Jharkhand             42.000000\n",
              "Delhi                 45.000000\n",
              "West Bengal           53.700000"
            ]
          },
          "metadata": {
            "tags": []
          }
        }
      ]
    },
    {
      "cell_type": "code",
      "metadata": {
        "colab": {
          "base_uri": "https://localhost:8080/",
          "height": 381
        },
        "id": "sjYoAmV31GCg",
        "outputId": "18af2930-4f45-40f1-9684-f826c37fd0b8"
      },
      "source": [
        "# Display as bar chart\n",
        "plt.bar(no2.index, no2)\n",
        "plt.title(\"Median NO2 by State\")\n",
        "plt.xticks(rotation=90)\n",
        "plt.show()"
      ],
      "execution_count": 502,
      "outputs": [
        {
          "output_type": "display_data",
          "data": {
            "image/png": "[encoded data removed]",
            "text/plain": [
              "<Figure size 432x288 with 1 Axes>"
            ]
          },
          "metadata": {
            "tags": [],
            "needs_background": "light"
          }
        }
      ]
    },
    {
      "cell_type": "markdown",
      "metadata": {
        "id": "z4M-BBXgeBTT"
      },
      "source": [
        "### rspm status"
      ]
    },
    {
      "cell_type": "code",
      "metadata": {
        "id": "k-cpPd6qeBTT",
        "colab": {
          "base_uri": "https://localhost:8080/",
          "height": 1000
        },
        "outputId": "0be3269a-6f8e-487f-af64-9f4f8093fd13"
      },
      "source": [
        "# Group by state\n",
        "rspm = data.groupby('state')['rspm'].median().sort_values(ascending=True)\n",
        "\n",
        "# Display as table\n",
        "display(pd.DataFrame(rspm))"
      ],
      "execution_count": 621,
      "outputs": [
        {
          "output_type": "display_data",
          "data": {
            "text/html": [
              "<div>\n",
              "<style scoped>\n",
              "    .dataframe tbody tr th:only-of-type {\n",
              "        vertical-align: middle;\n",
              "    }\n",
              "\n",
              "    .dataframe tbody tr th {\n",
              "        vertical-align: top;\n",
              "    }\n",
              "\n",
              "    .dataframe thead th {\n",
              "        text-align: right;\n",
              "    }\n",
              "</style>\n",
              "<table border=\"1\" class=\"dataframe\">\n",
              "  <thead>\n",
              "    <tr style=\"text-align: right;\">\n",
              "      <th></th>\n",
              "      <th>rspm</th>\n",
              "    </tr>\n",
              "    <tr>\n",
              "      <th>state</th>\n",
              "      <th></th>\n",
              "    </tr>\n",
              "  </thead>\n",
              "  <tbody>\n",
              "    <tr>\n",
              "      <th>Sikkim</th>\n",
              "      <td>32.000000</td>\n",
              "    </tr>\n",
              "    <tr>\n",
              "      <th>Mizoram</th>\n",
              "      <td>40.000000</td>\n",
              "    </tr>\n",
              "    <tr>\n",
              "      <th>Puducherry</th>\n",
              "      <td>46.000000</td>\n",
              "    </tr>\n",
              "    <tr>\n",
              "      <th>Kerala</th>\n",
              "      <td>49.000000</td>\n",
              "    </tr>\n",
              "    <tr>\n",
              "      <th>Goa</th>\n",
              "      <td>56.000000</td>\n",
              "    </tr>\n",
              "    <tr>\n",
              "      <th>Meghalaya</th>\n",
              "      <td>57.000000</td>\n",
              "    </tr>\n",
              "    <tr>\n",
              "      <th>Tamil Nadu</th>\n",
              "      <td>59.000000</td>\n",
              "    </tr>\n",
              "    <tr>\n",
              "      <th>Manipur</th>\n",
              "      <td>61.000000</td>\n",
              "    </tr>\n",
              "    <tr>\n",
              "      <th>Karnataka</th>\n",
              "      <td>63.000000</td>\n",
              "    </tr>\n",
              "    <tr>\n",
              "      <th>Arunachal Pradesh</th>\n",
              "      <td>74.500000</td>\n",
              "    </tr>\n",
              "    <tr>\n",
              "      <th>Andhra Pradesh</th>\n",
              "      <td>76.000000</td>\n",
              "    </tr>\n",
              "    <tr>\n",
              "      <th>Assam</th>\n",
              "      <td>77.000000</td>\n",
              "    </tr>\n",
              "    <tr>\n",
              "      <th>Nagaland</th>\n",
              "      <td>78.000000</td>\n",
              "    </tr>\n",
              "    <tr>\n",
              "      <th>Telangana</th>\n",
              "      <td>80.000000</td>\n",
              "    </tr>\n",
              "    <tr>\n",
              "      <th>Odisha</th>\n",
              "      <td>81.000000</td>\n",
              "    </tr>\n",
              "    <tr>\n",
              "      <th>Himachal Pradesh</th>\n",
              "      <td>90.000000</td>\n",
              "    </tr>\n",
              "    <tr>\n",
              "      <th>Chandigarh</th>\n",
              "      <td>90.000000</td>\n",
              "    </tr>\n",
              "    <tr>\n",
              "      <th>Dadra &amp; Nagar Haveli</th>\n",
              "      <td>91.000000</td>\n",
              "    </tr>\n",
              "    <tr>\n",
              "      <th>Gujarat</th>\n",
              "      <td>95.000000</td>\n",
              "    </tr>\n",
              "    <tr>\n",
              "      <th>West Bengal</th>\n",
              "      <td>96.000000</td>\n",
              "    </tr>\n",
              "    <tr>\n",
              "      <th>Maharashtra</th>\n",
              "      <td>96.000000</td>\n",
              "    </tr>\n",
              "    <tr>\n",
              "      <th>Chhattisgarh</th>\n",
              "      <td>108.833091</td>\n",
              "    </tr>\n",
              "    <tr>\n",
              "      <th>Madhya Pradesh</th>\n",
              "      <td>108.833091</td>\n",
              "    </tr>\n",
              "    <tr>\n",
              "      <th>Bihar</th>\n",
              "      <td>108.833091</td>\n",
              "    </tr>\n",
              "    <tr>\n",
              "      <th>Daman &amp; Diu</th>\n",
              "      <td>108.833091</td>\n",
              "    </tr>\n",
              "    <tr>\n",
              "      <th>Uttaranchal</th>\n",
              "      <td>112.000000</td>\n",
              "    </tr>\n",
              "    <tr>\n",
              "      <th>Rajasthan</th>\n",
              "      <td>112.000000</td>\n",
              "    </tr>\n",
              "    <tr>\n",
              "      <th>Jammu &amp; Kashmir</th>\n",
              "      <td>116.000000</td>\n",
              "    </tr>\n",
              "    <tr>\n",
              "      <th>Uttarakhand</th>\n",
              "      <td>135.000000</td>\n",
              "    </tr>\n",
              "    <tr>\n",
              "      <th>Delhi</th>\n",
              "      <td>136.000000</td>\n",
              "    </tr>\n",
              "    <tr>\n",
              "      <th>Haryana</th>\n",
              "      <td>137.500000</td>\n",
              "    </tr>\n",
              "    <tr>\n",
              "      <th>Punjab</th>\n",
              "      <td>147.000000</td>\n",
              "    </tr>\n",
              "    <tr>\n",
              "      <th>Uttar Pradesh</th>\n",
              "      <td>160.000000</td>\n",
              "    </tr>\n",
              "    <tr>\n",
              "      <th>Jharkhand</th>\n",
              "      <td>165.000000</td>\n",
              "    </tr>\n",
              "  </tbody>\n",
              "</table>\n",
              "</div>"
            ],
            "text/plain": [
              "                            rspm\n",
              "state                           \n",
              "Sikkim                 32.000000\n",
              "Mizoram                40.000000\n",
              "Puducherry             46.000000\n",
              "Kerala                 49.000000\n",
              "Goa                    56.000000\n",
              "Meghalaya              57.000000\n",
              "Tamil Nadu             59.000000\n",
              "Manipur                61.000000\n",
              "Karnataka              63.000000\n",
              "Arunachal Pradesh      74.500000\n",
              "Andhra Pradesh         76.000000\n",
              "Assam                  77.000000\n",
              "Nagaland               78.000000\n",
              "Telangana              80.000000\n",
              "Odisha                 81.000000\n",
              "Himachal Pradesh       90.000000\n",
              "Chandigarh             90.000000\n",
              "Dadra & Nagar Haveli   91.000000\n",
              "Gujarat                95.000000\n",
              "West Bengal            96.000000\n",
              "Maharashtra            96.000000\n",
              "Chhattisgarh          108.833091\n",
              "Madhya Pradesh        108.833091\n",
              "Bihar                 108.833091\n",
              "Daman & Diu           108.833091\n",
              "Uttaranchal           112.000000\n",
              "Rajasthan             112.000000\n",
              "Jammu & Kashmir       116.000000\n",
              "Uttarakhand           135.000000\n",
              "Delhi                 136.000000\n",
              "Haryana               137.500000\n",
              "Punjab                147.000000\n",
              "Uttar Pradesh         160.000000\n",
              "Jharkhand             165.000000"
            ]
          },
          "metadata": {
            "tags": []
          }
        }
      ]
    },
    {
      "cell_type": "code",
      "metadata": {
        "colab": {
          "base_uri": "https://localhost:8080/",
          "height": 381
        },
        "id": "l4LK_c274mkN",
        "outputId": "3d4bf253-c4a0-4e82-a49d-3aabb368ca12"
      },
      "source": [
        "# Display as bar chart\n",
        "plt.bar(rspm.index, rspm)\n",
        "plt.title(\"Median RSPM by State\")\n",
        "plt.xticks(rotation=90)\n",
        "plt.show()"
      ],
      "execution_count": 504,
      "outputs": [
        {
          "output_type": "display_data",
          "data": {
            "image/png": "[encoded data removed]",
            "text/plain": [
              "<Figure size 432x288 with 1 Axes>"
            ]
          },
          "metadata": {
            "tags": [],
            "needs_background": "light"
          }
        }
      ]
    },
    {
      "cell_type": "markdown",
      "metadata": {
        "id": "jAfnO7-meBTU"
      },
      "source": [
        "### spm status"
      ]
    },
    {
      "cell_type": "code",
      "metadata": {
        "id": "tAzItr2SeBTU",
        "colab": {
          "base_uri": "https://localhost:8080/",
          "height": 1000
        },
        "outputId": "ebb9a41f-9ef7-40e6-c049-488d6363bebe"
      },
      "source": [
        "# Group by state\n",
        "spm = data.groupby('state')['spm'].median().sort_values(ascending=True)\n",
        "\n",
        "# Display as table\n",
        "display(pd.DataFrame(spm))"
      ],
      "execution_count": 505,
      "outputs": [
        {
          "output_type": "display_data",
          "data": {
            "text/html": [
              "<div>\n",
              "<style scoped>\n",
              "    .dataframe tbody tr th:only-of-type {\n",
              "        vertical-align: middle;\n",
              "    }\n",
              "\n",
              "    .dataframe tbody tr th {\n",
              "        vertical-align: top;\n",
              "    }\n",
              "\n",
              "    .dataframe thead th {\n",
              "        text-align: right;\n",
              "    }\n",
              "</style>\n",
              "<table border=\"1\" class=\"dataframe\">\n",
              "  <thead>\n",
              "    <tr style=\"text-align: right;\">\n",
              "      <th></th>\n",
              "      <th>spm</th>\n",
              "    </tr>\n",
              "    <tr>\n",
              "      <th>state</th>\n",
              "      <th></th>\n",
              "    </tr>\n",
              "  </thead>\n",
              "  <tbody>\n",
              "    <tr>\n",
              "      <th>Sikkim</th>\n",
              "      <td>75.00000</td>\n",
              "    </tr>\n",
              "    <tr>\n",
              "      <th>Manipur</th>\n",
              "      <td>120.50000</td>\n",
              "    </tr>\n",
              "    <tr>\n",
              "      <th>Puducherry</th>\n",
              "      <td>191.00000</td>\n",
              "    </tr>\n",
              "    <tr>\n",
              "      <th>Goa</th>\n",
              "      <td>199.00000</td>\n",
              "    </tr>\n",
              "    <tr>\n",
              "      <th>Daman &amp; Diu</th>\n",
              "      <td>200.50000</td>\n",
              "    </tr>\n",
              "    <tr>\n",
              "      <th>Andhra Pradesh</th>\n",
              "      <td>220.78348</td>\n",
              "    </tr>\n",
              "    <tr>\n",
              "      <th>Meghalaya</th>\n",
              "      <td>220.78348</td>\n",
              "    </tr>\n",
              "    <tr>\n",
              "      <th>Mizoram</th>\n",
              "      <td>220.78348</td>\n",
              "    </tr>\n",
              "    <tr>\n",
              "      <th>Nagaland</th>\n",
              "      <td>220.78348</td>\n",
              "    </tr>\n",
              "    <tr>\n",
              "      <th>Odisha</th>\n",
              "      <td>220.78348</td>\n",
              "    </tr>\n",
              "    <tr>\n",
              "      <th>Punjab</th>\n",
              "      <td>220.78348</td>\n",
              "    </tr>\n",
              "    <tr>\n",
              "      <th>Tamil Nadu</th>\n",
              "      <td>220.78348</td>\n",
              "    </tr>\n",
              "    <tr>\n",
              "      <th>Telangana</th>\n",
              "      <td>220.78348</td>\n",
              "    </tr>\n",
              "    <tr>\n",
              "      <th>Uttar Pradesh</th>\n",
              "      <td>220.78348</td>\n",
              "    </tr>\n",
              "    <tr>\n",
              "      <th>Uttarakhand</th>\n",
              "      <td>220.78348</td>\n",
              "    </tr>\n",
              "    <tr>\n",
              "      <th>Rajasthan</th>\n",
              "      <td>220.78348</td>\n",
              "    </tr>\n",
              "    <tr>\n",
              "      <th>Maharashtra</th>\n",
              "      <td>220.78348</td>\n",
              "    </tr>\n",
              "    <tr>\n",
              "      <th>Kerala</th>\n",
              "      <td>220.78348</td>\n",
              "    </tr>\n",
              "    <tr>\n",
              "      <th>Karnataka</th>\n",
              "      <td>220.78348</td>\n",
              "    </tr>\n",
              "    <tr>\n",
              "      <th>Jharkhand</th>\n",
              "      <td>220.78348</td>\n",
              "    </tr>\n",
              "    <tr>\n",
              "      <th>Jammu &amp; Kashmir</th>\n",
              "      <td>220.78348</td>\n",
              "    </tr>\n",
              "    <tr>\n",
              "      <th>Himachal Pradesh</th>\n",
              "      <td>220.78348</td>\n",
              "    </tr>\n",
              "    <tr>\n",
              "      <th>Haryana</th>\n",
              "      <td>220.78348</td>\n",
              "    </tr>\n",
              "    <tr>\n",
              "      <th>Gujarat</th>\n",
              "      <td>220.78348</td>\n",
              "    </tr>\n",
              "    <tr>\n",
              "      <th>Dadra &amp; Nagar Haveli</th>\n",
              "      <td>220.78348</td>\n",
              "    </tr>\n",
              "    <tr>\n",
              "      <th>Chhattisgarh</th>\n",
              "      <td>220.78348</td>\n",
              "    </tr>\n",
              "    <tr>\n",
              "      <th>Chandigarh</th>\n",
              "      <td>220.78348</td>\n",
              "    </tr>\n",
              "    <tr>\n",
              "      <th>Bihar</th>\n",
              "      <td>220.78348</td>\n",
              "    </tr>\n",
              "    <tr>\n",
              "      <th>Assam</th>\n",
              "      <td>220.78348</td>\n",
              "    </tr>\n",
              "    <tr>\n",
              "      <th>Arunachal Pradesh</th>\n",
              "      <td>220.78348</td>\n",
              "    </tr>\n",
              "    <tr>\n",
              "      <th>Madhya Pradesh</th>\n",
              "      <td>220.78348</td>\n",
              "    </tr>\n",
              "    <tr>\n",
              "      <th>West Bengal</th>\n",
              "      <td>220.78348</td>\n",
              "    </tr>\n",
              "    <tr>\n",
              "      <th>Delhi</th>\n",
              "      <td>253.00000</td>\n",
              "    </tr>\n",
              "    <tr>\n",
              "      <th>Uttaranchal</th>\n",
              "      <td>268.00000</td>\n",
              "    </tr>\n",
              "  </tbody>\n",
              "</table>\n",
              "</div>"
            ],
            "text/plain": [
              "                            spm\n",
              "state                          \n",
              "Sikkim                 75.00000\n",
              "Manipur               120.50000\n",
              "Puducherry            191.00000\n",
              "Goa                   199.00000\n",
              "Daman & Diu           200.50000\n",
              "Andhra Pradesh        220.78348\n",
              "Meghalaya             220.78348\n",
              "Mizoram               220.78348\n",
              "Nagaland              220.78348\n",
              "Odisha                220.78348\n",
              "Punjab                220.78348\n",
              "Tamil Nadu            220.78348\n",
              "Telangana             220.78348\n",
              "Uttar Pradesh         220.78348\n",
              "Uttarakhand           220.78348\n",
              "Rajasthan             220.78348\n",
              "Maharashtra           220.78348\n",
              "Kerala                220.78348\n",
              "Karnataka             220.78348\n",
              "Jharkhand             220.78348\n",
              "Jammu & Kashmir       220.78348\n",
              "Himachal Pradesh      220.78348\n",
              "Haryana               220.78348\n",
              "Gujarat               220.78348\n",
              "Dadra & Nagar Haveli  220.78348\n",
              "Chhattisgarh          220.78348\n",
              "Chandigarh            220.78348\n",
              "Bihar                 220.78348\n",
              "Assam                 220.78348\n",
              "Arunachal Pradesh     220.78348\n",
              "Madhya Pradesh        220.78348\n",
              "West Bengal           220.78348\n",
              "Delhi                 253.00000\n",
              "Uttaranchal           268.00000"
            ]
          },
          "metadata": {
            "tags": []
          }
        }
      ]
    },
    {
      "cell_type": "code",
      "metadata": {
        "colab": {
          "base_uri": "https://localhost:8080/",
          "height": 381
        },
        "id": "qKP4u8FD4zYD",
        "outputId": "26bbbcc6-ace2-42c5-b486-6aa4f3583a78"
      },
      "source": [
        "# Display as bar chart\n",
        "plt.bar(spm.index, spm)\n",
        "plt.title(\"Median SPM by State\")\n",
        "plt.xticks(rotation=90)\n",
        "plt.show()"
      ],
      "execution_count": 506,
      "outputs": [
        {
          "output_type": "display_data",
          "data": {
            "image/png": "[encoded data removed]",
            "text/plain": [
              "<Figure size 432x288 with 1 Axes>"
            ]
          },
          "metadata": {
            "tags": [],
            "needs_background": "light"
          }
        }
      ]
    },
    {
      "cell_type": "markdown",
      "metadata": {
        "id": "mEMYeK-ueBTU"
      },
      "source": [
        "### What is the yearly trend in a particular state, say ‘Andhra Pradesh’?\n",
        "\n",
        "Create a new dataframe containing the NO2, SO2, rspm, and spm data regarding state ‘Andhra Pradesh’ only and group it by ‘year’. Display top 5 records after."
      ]
    },
    {
      "cell_type": "code",
      "metadata": {
        "id": "hwknKhN_eBTU",
        "colab": {
          "base_uri": "https://localhost:8080/",
          "height": 227
        },
        "outputId": "5fa28c29-fd3a-4e2d-e1bc-aae970698a4a"
      },
      "source": [
        "AP = data[['year','no2','so2','rspm','spm']].loc[data.state=='Andhra Pradesh'].groupby('year').median()\n",
        "AP.head(5)"
      ],
      "execution_count": 534,
      "outputs": [
        {
          "output_type": "execute_result",
          "data": {
            "text/html": [
              "<div>\n",
              "<style scoped>\n",
              "    .dataframe tbody tr th:only-of-type {\n",
              "        vertical-align: middle;\n",
              "    }\n",
              "\n",
              "    .dataframe tbody tr th {\n",
              "        vertical-align: top;\n",
              "    }\n",
              "\n",
              "    .dataframe thead th {\n",
              "        text-align: right;\n",
              "    }\n",
              "</style>\n",
              "<table border=\"1\" class=\"dataframe\">\n",
              "  <thead>\n",
              "    <tr style=\"text-align: right;\">\n",
              "      <th></th>\n",
              "      <th>no2</th>\n",
              "      <th>so2</th>\n",
              "      <th>rspm</th>\n",
              "      <th>spm</th>\n",
              "    </tr>\n",
              "    <tr>\n",
              "      <th>year</th>\n",
              "      <th></th>\n",
              "      <th></th>\n",
              "      <th></th>\n",
              "      <th></th>\n",
              "    </tr>\n",
              "  </thead>\n",
              "  <tbody>\n",
              "    <tr>\n",
              "      <th>1990</th>\n",
              "      <td>13.6</td>\n",
              "      <td>5.60</td>\n",
              "      <td>108.833091</td>\n",
              "      <td>179.00000</td>\n",
              "    </tr>\n",
              "    <tr>\n",
              "      <th>1991</th>\n",
              "      <td>12.8</td>\n",
              "      <td>8.25</td>\n",
              "      <td>108.833091</td>\n",
              "      <td>141.50000</td>\n",
              "    </tr>\n",
              "    <tr>\n",
              "      <th>1992</th>\n",
              "      <td>27.6</td>\n",
              "      <td>12.40</td>\n",
              "      <td>108.833091</td>\n",
              "      <td>192.00000</td>\n",
              "    </tr>\n",
              "    <tr>\n",
              "      <th>1993</th>\n",
              "      <td>11.4</td>\n",
              "      <td>6.00</td>\n",
              "      <td>108.833091</td>\n",
              "      <td>220.78348</td>\n",
              "    </tr>\n",
              "    <tr>\n",
              "      <th>1994</th>\n",
              "      <td>14.2</td>\n",
              "      <td>8.70</td>\n",
              "      <td>108.833091</td>\n",
              "      <td>220.78348</td>\n",
              "    </tr>\n",
              "  </tbody>\n",
              "</table>\n",
              "</div>"
            ],
            "text/plain": [
              "       no2    so2        rspm        spm\n",
              "year                                    \n",
              "1990  13.6   5.60  108.833091  179.00000\n",
              "1991  12.8   8.25  108.833091  141.50000\n",
              "1992  27.6  12.40  108.833091  192.00000\n",
              "1993  11.4   6.00  108.833091  220.78348\n",
              "1994  14.2   8.70  108.833091  220.78348"
            ]
          },
          "metadata": {
            "tags": []
          },
          "execution_count": 534
        }
      ]
    },
    {
      "cell_type": "code",
      "metadata": {
        "id": "6IQdhb8DeBTU",
        "colab": {
          "base_uri": "https://localhost:8080/",
          "height": 281
        },
        "outputId": "a9f01c70-01c6-40fe-c2f9-93d0ebe0b89e"
      },
      "source": [
        "# Display yearly trend graph (year vs. value) in pairs: (a) so2 and no2 (b) rspm and spm. \n",
        "# So, you will display TWO graphs altogether.\n",
        "\n",
        "# (a) so2 and no2\n",
        "plt.plot(AP.index, AP.so2, color='blue', label = 'SO2')\n",
        "plt.plot(AP.index, AP.no2, color='orange', label = 'NO2')\n",
        "plt.title('Yearly Trend: SO2 and NO2')\n",
        "plt.legend()\n",
        "plt.show()"
      ],
      "execution_count": 612,
      "outputs": [
        {
          "output_type": "display_data",
          "data": {
            "image/png": "[encoded data removed]",
            "text/plain": [
              "<Figure size 432x288 with 1 Axes>"
            ]
          },
          "metadata": {
            "tags": [],
            "needs_background": "light"
          }
        }
      ]
    },
    {
      "cell_type": "code",
      "metadata": {
        "colab": {
          "base_uri": "https://localhost:8080/",
          "height": 281
        },
        "id": "13cPAlrum9BZ",
        "outputId": "ba3c853a-7a06-4d5c-d71e-5df122498655"
      },
      "source": [
        "# (b) rspm and spm\n",
        "plt.plot(AP.index, AP.rspm, color='purple', label = 'RSPM')\n",
        "plt.plot(AP.index, AP.spm, color='green', label = 'SPM')\n",
        "plt.title('Yearly Trend: RSPM and SPM')\n",
        "plt.legend()\n",
        "plt.show()"
      ],
      "execution_count": 613,
      "outputs": [
        {
          "output_type": "display_data",
          "data": {
            "image/png": "[encoded data removed]",
            "text/plain": [
              "<Figure size 432x288 with 1 Axes>"
            ]
          },
          "metadata": {
            "tags": [],
            "needs_background": "light"
          }
        }
      ]
    },
    {
      "cell_type": "markdown",
      "metadata": {
        "id": "cHqS-fTVeBTU"
      },
      "source": [
        "Do you find anythumg alarming? Explain what you can conclude from this Exploratory Data Analysis for the State of Andhra Pradesh. Enter your answer here .....\n",
        "\n"
      ]
    },
    {
      "cell_type": "markdown",
      "metadata": {
        "id": "Prf7h_UMojKV"
      },
      "source": [
        "The analysis found that the median air quality from 1990-2015 in the state of Andhra Pradesh was overall better than the mean air quality in all of India during the same time period.\n",
        "\n",
        "Andhra Pradesh has median Sulphur Dioxide (SO2) and Nitrogen Dioxide levels of 5 μg each, and Respirable Suspended Particulate Matter (RSPM) of 76 μg, which are all lower than the national averages of 10.8 μg, 25.8 μg, and 108.8 μg, respectively.\n",
        "\n",
        "However, Andhra Pradesh's median Suspended Particulate Matter (SPM) of 220.8 μg is the same as than the national average. \n",
        "\n",
        "Based on the first graph, levels of both SO2 and NO2 have gone down since the 1990s and early 2000s. However, NO2 levels are considerably higher than SO2 levels. NO2 is often caused by road traffic and energy prodcution, and can lead to human respiratory illnesses.\n",
        "\n",
        "The secong graph indicates that RSPM levels have steadily decreased since the early 2000s. However, SPM levels have fluctuated since 1990, often reaching high levels, and have plateaued at a new high since 2010. High levels of SPM levels can have adverse respiratory and cardiovascular effects.\n",
        "\n",
        "In conclusion, I recommend that the state of Andhra Pradesh closely monitor and make an effort to decrease NO2 and SPM levels."
      ]
    }
  ]
}
